{
 "cells": [
  {
   "cell_type": "code",
   "execution_count": 3,
   "metadata": {},
   "outputs": [],
   "source": [
    "import numpy as np\n",
    "import pandas as pd\n",
    "import matplotlib.pyplot as plt\n",
    "%matplotlib inline"
   ]
  },
  {
   "cell_type": "code",
   "execution_count": 4,
   "metadata": {},
   "outputs": [
    {
     "name": "stderr",
     "output_type": "stream",
     "text": [
      "D:\\Downloads\\Anaconda\\Anaconda3\\lib\\site-packages\\IPython\\core\\interactiveshell.py:2785: DtypeWarning: Columns (8) have mixed types. Specify dtype option on import or set low_memory=False.\n",
      "  interactivity=interactivity, compiler=compiler, result=result)\n"
     ]
    }
   ],
   "source": [
    "data2 = pd.read_csv(\"C:/Users/zhang/Desktop/NYU/2019 Fall/Humane/Data/HMAHCC_COMP.csv\")"
   ]
  },
  {
   "cell_type": "code",
   "execution_count": 245,
   "metadata": {},
   "outputs": [],
   "source": [
    "data = data2[data2.index <= 50000]"
   ]
  },
  {
   "cell_type": "code",
   "execution_count": 246,
   "metadata": {},
   "outputs": [
    {
     "name": "stderr",
     "output_type": "stream",
     "text": [
      "D:\\Downloads\\Anaconda\\Anaconda3\\lib\\site-packages\\ipykernel_launcher.py:1: SettingWithCopyWarning: \n",
      "A value is trying to be set on a copy of a slice from a DataFrame\n",
      "\n",
      "See the caveats in the documentation: http://pandas.pydata.org/pandas-docs/stable/indexing.html#indexing-view-versus-copy\n",
      "  \"\"\"Entry point for launching an IPython kernel.\n"
     ]
    }
   ],
   "source": [
    "data.drop_duplicates(inplace = True)"
   ]
  },
  {
   "cell_type": "code",
   "execution_count": 247,
   "metadata": {},
   "outputs": [
    {
     "name": "stderr",
     "output_type": "stream",
     "text": [
      "D:\\Downloads\\Anaconda\\Anaconda3\\lib\\site-packages\\ipykernel_launcher.py:6: SettingWithCopyWarning: \n",
      "A value is trying to be set on a copy of a slice from a DataFrame.\n",
      "Try using .loc[row_indexer,col_indexer] = value instead\n",
      "\n",
      "See the caveats in the documentation: http://pandas.pydata.org/pandas-docs/stable/indexing.html#indexing-view-versus-copy\n",
      "  \n"
     ]
    }
   ],
   "source": [
    "# Find <id, Days> where 'RX Claim - Paid' or 'RX Claim - New Drug' or 'RX CLaim - First Time Main Order' has the same generic as\n",
    "# 'RX Claim - Rejected' when 'RX Claim - Rejected' == 'REVERSAL'\n",
    "\n",
    "# We only care about Opioid rows\n",
    "sub_data = data[(data['event_attr1'] == 'REVERSAL') | (data['MME'].isna() == False)]\n",
    "sub_data['Generic'] = np.where(sub_data['event_descr'].isin(['RX Claim - Rejected']), \\\n",
    "                               sub_data['event_attr6'], sub_data['event_attr8'])"
   ]
  },
  {
   "cell_type": "code",
   "execution_count": 248,
   "metadata": {},
   "outputs": [],
   "source": [
    "# Only include Opioid generic\n",
    "\n",
    "opioid_generic = sub_data[sub_data['event_descr'] == 'RX Claim - Paid']['Generic'].unique()\n",
    "sub_data = sub_data[sub_data['Generic'].isin(opioid_generic)]"
   ]
  },
  {
   "cell_type": "code",
   "execution_count": 249,
   "metadata": {},
   "outputs": [],
   "source": [
    "# Running on Colab\n",
    "\n",
    "id_day = []\n",
    "for uid in sub_data['id'].unique():\n",
    "    for day in sub_data[sub_data['id'] == uid]['Days'].unique():\n",
    "        sample = sub_data[(sub_data['id'] == uid) & (sub_data['Days'] == day)]\n",
    "        if 'REVERSAL' in sample['event_attr1'].unique() and sample['event_descr'].nunique() >= 2\\\n",
    "        and sample['Generic'].nunique() < sample.shape[0] :\n",
    "            id_day.append([uid, day])"
   ]
  },
  {
   "cell_type": "code",
   "execution_count": 250,
   "metadata": {},
   "outputs": [
    {
     "data": {
      "text/plain": [
       "[['ID10230809175', 800], ['ID10522725996', 470], ['ID10680847713', 707]]"
      ]
     },
     "execution_count": 250,
     "metadata": {},
     "output_type": "execute_result"
    }
   ],
   "source": [
    "id_day"
   ]
  },
  {
   "cell_type": "code",
   "execution_count": 251,
   "metadata": {},
   "outputs": [
    {
     "name": "stderr",
     "output_type": "stream",
     "text": [
      "D:\\Downloads\\Anaconda\\Anaconda3\\lib\\site-packages\\pandas\\core\\indexing.py:543: SettingWithCopyWarning: \n",
      "A value is trying to be set on a copy of a slice from a DataFrame.\n",
      "Try using .loc[row_indexer,col_indexer] = value instead\n",
      "\n",
      "See the caveats in the documentation: http://pandas.pydata.org/pandas-docs/stable/indexing.html#indexing-view-versus-copy\n",
      "  self.obj[item] = s\n"
     ]
    }
   ],
   "source": [
    "# ????? need more detail to be explained\n",
    "\n",
    "for uid, day in id_day:\n",
    "    for generic in data[(data['id'] == uid) & (data['Days'] == day) & (data['event_attr1'] == 'REVERSAL')]['event_attr6'].unique():\n",
    "        if data[(data['id'] == uid) & (data['Days'] == day) & \\\n",
    "                (data['event_descr'] == 'RX Claim - Paid') & (data['event_attr8'] == generic)].shape[0] > 0:\n",
    "            \n",
    "            row_index_paid = data[(data['id'] == uid) & (data['Days'] == day) & \\\n",
    "                                  (data['event_descr'] == 'RX Claim - Paid') & (data['event_attr8'] == generic)].index\n",
    "            for i in row_index_paid:\n",
    "                data.at[row_index_paid, 'PAY_DAY_SUPPLY_CNT'] = 0\n",
    "                data.at[row_index_paid, 'PAYABLE_QTY'] = 0\n",
    "                data.at[row_index_paid, 'MME'] = 0\n",
    "            \n",
    "        if data[(data['id'] == uid) & (data['Days'] == day) & \\\n",
    "                (data['event_descr'] == 'RX Claim - New Drug') & (data['event_attr8'] == generic)].shape[0] > 0:\n",
    "            \n",
    "            row_index_new = data[(data['id'] == uid) & (data['Days'] == day) & \\\n",
    "                                  (data['event_descr'] == 'RX Claim - New Drug') & (data['event_attr8'] == generic)].index\n",
    "            for i in row_index_paid:\n",
    "                data.at[row_index_new, 'PAY_DAY_SUPPLY_CNT'] = 0\n",
    "                data.at[row_index_new, 'PAYABLE_QTY'] = 0\n",
    "                data.at[row_index_new, 'MME'] = 0\n",
    "            \n",
    "        if data[(data['id'] == uid) & (data['Days'] == day) & \\\n",
    "                (data['event_descr'] == 'RX Claim - First Time Mail Order') & (data['event_attr8'] == generic)].shape[0] > 0:\n",
    "            \n",
    "            row_index_mail = data[(data['id'] == uid) & (data['Days'] == day) & \\\n",
    "                                 (data['event_descr'] == 'RX Claim - First Time Mail Order') & \\\n",
    "                                 (data['event_attr8'] == generic)].index\n",
    "            for i in row_index_paid:\n",
    "                data.at[row_index_mail, 'PAY_DAY_SUPPLY_CNT'] = 0\n",
    "                data.at[row_index_mail, 'PAYABLE_QTY'] = 0\n",
    "                data.at[row_index_mail, 'MME'] = 0"
   ]
  },
  {
   "cell_type": "code",
   "execution_count": 254,
   "metadata": {},
   "outputs": [
    {
     "name": "stderr",
     "output_type": "stream",
     "text": [
      "D:\\Downloads\\Anaconda\\Anaconda3\\lib\\site-packages\\pandas\\core\\indexing.py:543: SettingWithCopyWarning: \n",
      "A value is trying to be set on a copy of a slice from a DataFrame.\n",
      "Try using .loc[row_indexer,col_indexer] = value instead\n",
      "\n",
      "See the caveats in the documentation: http://pandas.pydata.org/pandas-docs/stable/indexing.html#indexing-view-versus-copy\n",
      "  self.obj[item] = s\n"
     ]
    }
   ],
   "source": [
    "# Find duplicates of \"RX Claim Paid\", \"RX Claim New Drug\", 'RX Claim First Time Mail Order' in the same day, if opioid\n",
    "# Pick the max supply day and change the other as 0\n",
    "\n",
    "opioid_data = data[data['MME'].isna() == False]\n",
    "opioid_data = opioid_data[opioid_data.duplicated(['id', 'event_descr', 'Days'], keep = False)]\n",
    "opioid_data_max_supply = opioid_data.sort_values(['id', 'event_descr', 'Days', 'PAY_DAY_SUPPLY_CNT'])\\\n",
    "                                    .drop_duplicates(['id', 'event_descr', 'Days'], keep = 'last')\n",
    "change_id = np.setdiff1d(np.array(opioid_data.index), np.array(opioid_data_max_supply.index))\n",
    "for uid in c`hange_id:\n",
    "    data.loc[uid, 'PAY_DAY_SUPPLY_CNT'] = 0"
   ]
  },
  {
   "cell_type": "code",
   "execution_count": 312,
   "metadata": {},
   "outputs": [],
   "source": [
    "feature = data[data['Days'] < 0]\n",
    "target = data[data['Days'] >= 0]"
   ]
  },
  {
   "cell_type": "code",
   "execution_count": 256,
   "metadata": {},
   "outputs": [],
   "source": [
    "# Extract total other diagnosis times, total cost, total paid\n",
    "# What is not extracted: drug class, brand name, drug description\n",
    "def RX_claim_paid_other(uid):\n",
    "    instance = feature[(feature['id'] == uid) & (feature['event_descr'] == 'RX Claim - Paid') & (feature['MME'].isna() == True)]\n",
    "    if instance.shape[0] != 0:\n",
    "        total_RX_claim_paid_other = instance.shape[0]\n",
    "        total_RX_claim_paid_cost_other = instance['event_attr3'].astype('float32').sum()\n",
    "        total_RX_claim_paid_paid_other = instance['event_attr4'].astype('float32').sum()\n",
    "    if instance.shape[0] == 0:    \n",
    "        total_RX_claim_paid_other = 0\n",
    "        total_RX_claim_paid_cost_other = 0\n",
    "        total_RX_claim_paid_paid_other = 0   \n",
    "        \n",
    "    return [total_RX_claim_paid_other, total_RX_claim_paid_cost_other, total_RX_claim_paid_paid_other]"
   ]
  },
  {
   "cell_type": "code",
   "execution_count": 257,
   "metadata": {},
   "outputs": [],
   "source": [
    "# Extract total opioid times, total cost, total paid, supply count, quantity, MME\n",
    "# What is not extracted: brand name, drug description, drug type, Specialty, Speciatly2, Specialty3\n",
    "def RX_claim_paid_opioid(uid):\n",
    "    instance = feature[(feature['id'] == uid) & (feature['event_descr'] == 'RX Claim - Paid') & (feature['MME'].isna() == False)]\n",
    "    if instance.shape[0] != 0:\n",
    "        total_RX_claim_paid_opioid = instance.shape[0]\n",
    "        total_RX_claim_paid_cost_opioid = instance['event_attr3'].astype('float32').sum()\n",
    "        total_RX_claim_paid_paid_opioid = instance['event_attr4'].astype('float32').sum()\n",
    "        total_RX_claim_paid_supply_opioid = instance['PAY_DAY_SUPPLY_CNT'].sum()\n",
    "        total_RX_claim_paid_quantity_opioid = instance['PAYABLE_QTY'].sum() \n",
    "        total_RX_claim_paid_MME_opioid = instance['MME'].sum()\n",
    "    if instance.shape[0] == 0:    \n",
    "        total_RX_claim_paid_opioid = 0\n",
    "        total_RX_claim_paid_cost_opioid = 0\n",
    "        total_RX_claim_paid_paid_opioid = 0\n",
    "        total_RX_claim_paid_supply_opioid = 0\n",
    "        total_RX_claim_paid_quantity_opioid = 0\n",
    "        total_RX_claim_paid_MME_opioid = 0       \n",
    "        \n",
    "    return [total_RX_claim_paid_opioid, total_RX_claim_paid_cost_opioid, total_RX_claim_paid_paid_opioid,\\\n",
    "            total_RX_claim_paid_supply_opioid, total_RX_claim_paid_quantity_opioid, total_RX_claim_paid_MME_opioid]"
   ]
  },
  {
   "cell_type": "code",
   "execution_count": 258,
   "metadata": {},
   "outputs": [],
   "source": [
    "# Extract total other new drug times\n",
    "\n",
    "def RX_claim_new_other(uid):\n",
    "    instance = feature[(feature['id'] == uid) & (feature['event_descr'] == 'RX Claim - New Drug') &\\\n",
    "                       (feature['MME'].isna() == True)]\n",
    "    if instance.shape[0] != 0:\n",
    "        total_RX_claim_new_other = instance.shape[0]\n",
    "    if instance.shape[0] == 0:    \n",
    "        total_RX_claim_new_other = 0  \n",
    "        \n",
    "    return [total_RX_claim_new_other]"
   ]
  },
  {
   "cell_type": "code",
   "execution_count": 259,
   "metadata": {},
   "outputs": [],
   "source": [
    "# Extract new drug opioid times, total cost, total paid, supply count, quantity, MME\n",
    "\n",
    "def RX_claim_new_opioid(uid):\n",
    "    instance = feature[(feature['id'] == uid) & (feature['event_descr'] == 'RX Claim - New Drug') &\\\n",
    "                       (feature['MME'].isna() == False)]\n",
    "    if instance.shape[0] != 0:\n",
    "        total_RX_claim_new_opioid = instance.shape[0]\n",
    "        total_RX_claim_new_supply_opioid = instance['PAY_DAY_SUPPLY_CNT'].sum()\n",
    "        total_RX_claim_new_quantity_opioid = instance['PAYABLE_QTY'].sum() \n",
    "        total_RX_claim_new_MME_opioid = instance['MME'].sum()\n",
    "    if instance.shape[0] == 0:    \n",
    "        total_RX_claim_new_opioid = 0\n",
    "        total_RX_claim_new_supply_opioid = 0\n",
    "        total_RX_claim_new_quantity_opioid = 0\n",
    "        total_RX_claim_new_MME_opioid = 0       \n",
    "        \n",
    "    return [total_RX_claim_new_opioid, total_RX_claim_new_supply_opioid, total_RX_claim_new_quantity_opioid,\\\n",
    "            total_RX_claim_new_MME_opioid]"
   ]
  },
  {
   "cell_type": "code",
   "execution_count": 260,
   "metadata": {},
   "outputs": [],
   "source": [
    "# Extract total other first mail times\n",
    "\n",
    "def RX_claim_mail_other(uid):\n",
    "    instance = feature[(feature['id'] == uid) & (feature['event_descr'] == 'RX Claim - First Time Mail Order') &\\\n",
    "                       (feature['MME'].isna() == True)]\n",
    "    if instance.shape[0] != 0:\n",
    "        total_RX_claim_mail_other = instance.shape[0]\n",
    "    if instance.shape[0] == 0:    \n",
    "        total_RX_claim_mail_other = 0  \n",
    "        \n",
    "    return [total_RX_claim_mail_other]"
   ]
  },
  {
   "cell_type": "code",
   "execution_count": 261,
   "metadata": {},
   "outputs": [],
   "source": [
    "# Extract opioid first mail times, supply count, quantity, MME\n",
    "\n",
    "def RX_claim_mail_opioid(uid):\n",
    "    instance = feature[(feature['id'] == uid) & (feature['event_descr'] == 'RX Claim - First Time Mail Order') &\\\n",
    "                       (feature['MME'].isna() == False)]\n",
    "    if instance.shape[0] != 0:\n",
    "        total_RX_claim_mail_opioid = instance.shape[0]\n",
    "        total_RX_claim_mail_supply_opioid = instance['PAY_DAY_SUPPLY_CNT'].sum()\n",
    "        total_RX_claim_mail_quantity_opioid = instance['PAYABLE_QTY'].sum() \n",
    "        total_RX_claim_mail_MME_opioid = instance['MME'].sum()\n",
    "    if instance.shape[0] == 0:    \n",
    "        total_RX_claim_mail_opioid = 0\n",
    "        total_RX_claim_mail_supply_opioid = 0\n",
    "        total_RX_claim_mail_quantity_opioid = 0\n",
    "        total_RX_claim_mail_MME_opioid = 0       \n",
    "        \n",
    "    return [total_RX_claim_mail_opioid, total_RX_claim_mail_supply_opioid, total_RX_claim_mail_quantity_opioid,\\\n",
    "            total_RX_claim_mail_MME_opioid]"
   ]
  },
  {
   "cell_type": "code",
   "execution_count": 262,
   "metadata": {},
   "outputs": [],
   "source": [
    "# Extract total reject times\n",
    "\n",
    "def RX_claim_reject(uid):\n",
    "    instance = feature[(feature['id'] == uid) & (feature['event_descr'] == 'RX Claim - Reject')]\n",
    "    if instance.shape[0] != 0:\n",
    "        total_RX_claim_reject = instance.shape[0]\n",
    "    if instance.shape[0] == 0:    \n",
    "        total_RX_claim_reject = 0  \n",
    "        \n",
    "    return [total_RX_claim_reject]"
   ]
  },
  {
   "cell_type": "code",
   "execution_count": 263,
   "metadata": {},
   "outputs": [],
   "source": [
    "# Extract total inbound call by mbr times\n",
    "\n",
    "def Inbound_call_by_mbr(uid):\n",
    "    instance = feature[(feature['id'] == uid) & (feature['event_descr'] == 'Inbound Call by Mbr')]\n",
    "    if instance.shape[0] != 0:\n",
    "        inbound_call_by_mbr = instance.shape[0]\n",
    "    if instance.shape[0] == 0:    \n",
    "        inbound_call_by_mbr = 0  \n",
    "        \n",
    "    return [inbound_call_by_mbr]"
   ]
  },
  {
   "cell_type": "code",
   "execution_count": 264,
   "metadata": {},
   "outputs": [],
   "source": [
    "# Extract total inbound call by other times\n",
    "\n",
    "def Inbound_call_by_other(uid):\n",
    "    instance = feature[(feature['id'] == uid) & (feature['event_descr'] == 'Inbound Call by Other')]\n",
    "    if instance.shape[0] != 0:\n",
    "        inbound_call_by_other = instance.shape[0]\n",
    "    if instance.shape[0] == 0:    \n",
    "        inbound_call_by_other = 0  \n",
    "        \n",
    "    return [inbound_call_by_other]"
   ]
  },
  {
   "cell_type": "code",
   "execution_count": 265,
   "metadata": {},
   "outputs": [],
   "source": [
    "# Extract total inbound call by prov times\n",
    "\n",
    "def Inbound_call_by_prov(uid):\n",
    "    instance = feature[(feature['id'] == uid) & (feature['event_descr'] == 'Inbound Call by Prov')]\n",
    "    if instance.shape[0] != 0:\n",
    "        inbound_call_by_prov = instance.shape[0]\n",
    "    if instance.shape[0] == 0:    \n",
    "        inbound_call_by_prov = 0  \n",
    "        \n",
    "    return [inbound_call_by_prov]"
   ]
  },
  {
   "cell_type": "code",
   "execution_count": 266,
   "metadata": {},
   "outputs": [],
   "source": [
    "# Extract total fully paid claim times, total charge, total net paid, total responsible amount\n",
    "\n",
    "def Fully_paid_claim(uid):\n",
    "    instance = feature[(feature['id'] == uid) & (feature['event_descr'] == 'Fully Paid Claim')]\n",
    "    if instance.shape[0] != 0:\n",
    "        fully_paid_claim = instance.shape[0]\n",
    "        fully_paid_claim_charge = instance['event_attr3'].astype('float32').sum()\n",
    "        fully_paid_claim_paid = instance['event_attr4'].astype('float32').sum()\n",
    "        fully_paid_claim_responsible = instance['event_attr5'].astype('float32').sum()\n",
    "    if instance.shape[0] == 0:    \n",
    "        fully_paid_claim = 0\n",
    "        fully_paid_claim_charge = 0\n",
    "        fully_paid_claim_paid = 0\n",
    "        fully_paid_claim_responsible = 0   \n",
    "        \n",
    "    return [fully_paid_claim, fully_paid_claim_charge, fully_paid_claim_paid, fully_paid_claim_responsible]"
   ]
  },
  {
   "cell_type": "code",
   "execution_count": 267,
   "metadata": {},
   "outputs": [],
   "source": [
    "# Extract total New Diagonosis Top 5 claim times, total charge, total net paid, total responsible amount\n",
    "\n",
    "def Top_five(uid):\n",
    "    instance = feature[(feature['id'] == uid) & (feature['event_descr'] == 'New diagnosis - Top 5')]\n",
    "    if instance.shape[0] != 0:\n",
    "        top_five = instance.shape[0]\n",
    "        top_five_charge = instance['event_attr3'].astype('float32').sum()\n",
    "        top_five_paid = instance['event_attr4'].astype('float32').sum()\n",
    "        top_five_responsible = instance['event_attr5'].astype('float32').sum()\n",
    "    if instance.shape[0] == 0:    \n",
    "        top_five = 0\n",
    "        top_five_charge = 0\n",
    "        top_five_paid = 0\n",
    "        top_five_responsible = 0   \n",
    "        \n",
    "    return [top_five, top_five_charge, top_five_paid, top_five_responsible]"
   ]
  },
  {
   "cell_type": "code",
   "execution_count": 268,
   "metadata": {},
   "outputs": [],
   "source": [
    "# Extract total New Diagonosis CAD claim times, total charge, total net paid, total responsible amount\n",
    "\n",
    "def CAD(uid):\n",
    "    instance = feature[(feature['id'] == uid) & (feature['event_descr'] == 'New diagnosis - CAD')]\n",
    "    if instance.shape[0] != 0:\n",
    "        cad = instance.shape[0]\n",
    "        cad_charge = instance['event_attr3'].astype('float32').sum()\n",
    "        cad_paid = instance['event_attr4'].astype('float32').sum()\n",
    "        cad_responsible = instance['event_attr5'].astype('float32').sum()\n",
    "    if instance.shape[0] == 0:    \n",
    "        cad = 0\n",
    "        cad_charge = 0\n",
    "        cad_paid = 0\n",
    "        cad_responsible = 0   \n",
    "        \n",
    "    return [cad, cad_charge, cad_paid, cad_responsible]"
   ]
  },
  {
   "cell_type": "code",
   "execution_count": 269,
   "metadata": {},
   "outputs": [],
   "source": [
    "# Extract total New Diagonosis Diabetes claim times, total charge, total net paid, total responsible amount\n",
    "\n",
    "def Diabetes(uid):\n",
    "    instance = feature[(feature['id'] == uid) & (feature['event_descr'] == 'New diagnosis - Diabetes')]\n",
    "    if instance.shape[0] != 0:\n",
    "        diabetes = instance.shape[0]\n",
    "        diabetes_charge = instance['event_attr3'].astype('float32').sum()\n",
    "        diabetes_paid = instance['event_attr4'].astype('float32').sum()\n",
    "        diabetes_responsible = instance['event_attr5'].astype('float32').sum()\n",
    "    if instance.shape[0] == 0:    \n",
    "        diabetes = 0\n",
    "        diabetes_charge = 0\n",
    "        diabetes_paid = 0\n",
    "        diabetes_responsible = 0   \n",
    "        \n",
    "    return [diabetes, diabetes_charge, diabetes_paid, diabetes_responsible]"
   ]
  },
  {
   "cell_type": "code",
   "execution_count": 270,
   "metadata": {},
   "outputs": [],
   "source": [
    "# Extract total New Diagonosis Hypertension claim times, total charge, total net paid, total responsible amount\n",
    "\n",
    "def Hypertension(uid):\n",
    "    instance = feature[(feature['id'] == uid) & (feature['event_descr'] == 'New diagnosis - Hypertension')]\n",
    "    if instance.shape[0] != 0:\n",
    "        hypertension = instance.shape[0]\n",
    "        hypertension_charge = instance['event_attr3'].astype('float32').sum()\n",
    "        hypertension_paid = instance['event_attr4'].astype('float32').sum()\n",
    "        hypertension_responsible = instance['event_attr5'].astype('float32').sum()\n",
    "    if instance.shape[0] == 0:    \n",
    "        hypertension = 0\n",
    "        hypertension_charge = 0\n",
    "        hypertension_paid = 0\n",
    "        hypertension_responsible = 0   \n",
    "        \n",
    "    return [hypertension, hypertension_charge, hypertension_paid, hypertension_responsible]"
   ]
  },
  {
   "cell_type": "code",
   "execution_count": 271,
   "metadata": {},
   "outputs": [],
   "source": [
    "# Extract total New Diagonosis CPD claim times, total charge, total net paid, total responsible amount\n",
    "\n",
    "def CPD(uid):\n",
    "    instance = feature[(feature['id'] == uid) & (feature['event_descr'] == 'New diagnosis - CPD')]\n",
    "    if instance.shape[0] != 0:\n",
    "        cpd = instance.shape[0]\n",
    "        cpd_charge = instance['event_attr3'].astype('float32').sum()\n",
    "        cpd_paid = instance['event_attr4'].astype('float32').sum()\n",
    "        cpd_responsible = instance['event_attr5'].astype('float32').sum()\n",
    "    if instance.shape[0] == 0:    \n",
    "        cpd = 0\n",
    "        cpd_charge = 0\n",
    "        cpd_paid = 0\n",
    "        cpd_responsible = 0   \n",
    "        \n",
    "    return [cpd, cpd_charge, cpd_paid, cpd_responsible]"
   ]
  },
  {
   "cell_type": "code",
   "execution_count": 272,
   "metadata": {},
   "outputs": [],
   "source": [
    "# Extract total New Diagonosis CHF claim times, total charge, total net paid, total responsible amount\n",
    "\n",
    "def CHF(uid):\n",
    "    instance = feature[(feature['id'] == uid) & (feature['event_descr'] == 'New diagnosis - CHF')]\n",
    "    if instance.shape[0] != 0:\n",
    "        chf = instance.shape[0]\n",
    "        chf_charge = instance['event_attr3'].astype('float32').sum()\n",
    "        chf_paid = instance['event_attr4'].astype('float32').sum()\n",
    "        chf_responsible = instance['event_attr5'].astype('float32').sum()\n",
    "    if instance.shape[0] == 0:    \n",
    "        chf = 0\n",
    "        chf_charge = 0\n",
    "        chf_paid = 0\n",
    "        chf_responsible = 0   \n",
    "        \n",
    "    return [chf, chf_charge, chf_paid, chf_responsible]"
   ]
  },
  {
   "cell_type": "code",
   "execution_count": 273,
   "metadata": {},
   "outputs": [],
   "source": [
    "# Extract total Surgery claim times, total charge, total net paid, total responsible amount\n",
    "\n",
    "def Surgery(uid):\n",
    "    instance = feature[(feature['id'] == uid) & (feature['event_descr'] == 'Surgery')]\n",
    "    if instance.shape[0] != 0:\n",
    "        surgery = instance.shape[0]\n",
    "        surgery_charge = instance['event_attr3'].astype('float32').sum()\n",
    "        surgery_paid = instance['event_attr4'].astype('float32').sum()\n",
    "        surgery_responsible = instance['event_attr5'].astype('float32').sum()\n",
    "    if instance.shape[0] == 0:    \n",
    "        surgery = 0\n",
    "        surgery_charge = 0\n",
    "        surgery_paid = 0\n",
    "        surgery_responsible = 0   \n",
    "        \n",
    "    return [surgery, surgery_charge, surgery_paid, surgery_responsible]"
   ]
  },
  {
   "cell_type": "code",
   "execution_count": 274,
   "metadata": {},
   "outputs": [],
   "source": [
    "columns = ['id', 'total_RX_claim_paid_other', 'total_RX_claim_paid_cost_other', 'total_RX_claim_paid_paid_other', \\\n",
    "           'total_RX_claim_paid_opioid', 'total_RX_claim_paid_cost_opioid', 'total_RX_claim_paid_paid_opioid', \\\n",
    "           'total_RX_claim_paid_supply_opioid', 'total_RX_claim_paid_quantity_opioid', 'total_RX_claim_paid_MME_opioid', \\\n",
    "           'total_RX_claim_new_other', 'total_RX_claim_new_opioid', 'total_RX_claim_new_supply_opioid', \\\n",
    "           'total_RX_claim_new_quantity_opioid', 'total_RX_claim_new_MME_opioid', 'total_RX_claim_mail_other', \\\n",
    "           'total_RX_claim_mail_opioid', 'total_RX_claim_mail_supply_opioid', 'total_RX_claim_mail_quantity_opioid', \\\n",
    "           'total_RX_claim_mail_MME_opioid', 'total_RX_claim_reject', 'inbound_call_by_mbr', 'inbound_call_by_other', \\\n",
    "           'inbound_call_by_prov', 'fully_paid_claim', 'fully_paid_claim_charge', 'fully_paid_claim_paid', \\\n",
    "           'fully_paid_claim_responsible', 'top_five', 'top_five_charge', 'top_five_paid', 'top_five_responsible', 'cad', \\\n",
    "           'cad_charge', 'cad_paid', 'cad_responsible', 'diabetes', 'diabetes_charge', 'diabetes_paid', 'diabetes_responsible', \\\n",
    "           'hypertension', 'hypertension_charge', 'hypertension_paid', 'hypertension_responsible', 'cpd', 'cpd_charge', \\\n",
    "           'cpd_paid', 'cpd_responsible', 'chf', 'chf_charge', 'chf_paid', 'chf_responsible', 'surgery', 'surgery_charge', \\\n",
    "           'surgery_paid', 'surgery_responsible']"
   ]
  },
  {
   "cell_type": "code",
   "execution_count": 296,
   "metadata": {},
   "outputs": [],
   "source": [
    "processed_feature = pd.DataFrame(columns = columns)"
   ]
  },
  {
   "cell_type": "code",
   "execution_count": 297,
   "metadata": {},
   "outputs": [],
   "source": [
    "for uid in feature['id'].unique():\n",
    "    one_row = []\n",
    "    one_row.append(uid)\n",
    "    one_row.extend(RX_claim_paid_other(uid))\n",
    "    one_row.extend(RX_claim_paid_opioid(uid))\n",
    "    one_row.extend(RX_claim_new_other(uid))\n",
    "    one_row.extend(RX_claim_new_opioid(uid))\n",
    "    one_row.extend(RX_claim_mail_other(uid))\n",
    "    one_row.extend(RX_claim_mail_opioid(uid))\n",
    "    one_row.extend(RX_claim_reject(uid))\n",
    "    one_row.extend(Inbound_call_by_mbr(uid))\n",
    "    one_row.extend(Inbound_call_by_other(uid))\n",
    "    one_row.extend(Inbound_call_by_prov(uid))\n",
    "    one_row.extend(Fully_paid_claim(uid))\n",
    "    one_row.extend(Top_five(uid))\n",
    "    one_row.extend(CAD(uid))\n",
    "    one_row.extend(Diabetes(uid))\n",
    "    one_row.extend(Hypertension(uid))\n",
    "    one_row.extend(CPD(uid))\n",
    "    one_row.extend(CHF(uid))\n",
    "    one_row.extend(Surgery(uid))\n",
    "    processed_feature = processed_feature.append(pd.Series(one_row, index = processed_feature.columns), ignore_index = True)"
   ]
  },
  {
   "cell_type": "code",
   "execution_count": 284,
   "metadata": {},
   "outputs": [],
   "source": [
    "target_opioid = target[(target['event_descr'] == 'RX Claim - Paid') & (target_drug['MME'].isna() == False)]"
   ]
  },
  {
   "cell_type": "code",
   "execution_count": 286,
   "metadata": {},
   "outputs": [],
   "source": [
    "ltot_index = []\n",
    "for uid in target_opioid['id'].unique():\n",
    "    for day in target_opioid[target_opioid['id'] == uid]['Days'].unique():\n",
    "        if day == 0:\n",
    "            ltot = target_opioid[(target_opioid['id'] == uid) & (target_opioid['Days'] <= 179)]\n",
    "            if ltot['PAY_DAY_SUPPLY_CNT'].sum() >= 162:\n",
    "                ltot_index.append(uid)\n",
    "                break\n",
    "        elif day >= 90:\n",
    "            opoid_naive = target_opioid[(target_opioid['id'] == uid) & (target_opioid['Days'] <= (day - 1)) &\\\n",
    "                                        (target_opioid['Days'] >= (day - 90))]\n",
    "            if opoid_naive[opoid_naive['PAY_DAY_SUPPLY_CNT'].isna() == False].shape[0] == 0:\n",
    "                ltot = target_opioid[(target_opioid['id'] == uid) & (target_opioid['Days'] >= day) &\\\n",
    "                                     (target_opioid['Days'] >= day + 179)]\n",
    "                if ltot['PAY_DAY_SUPPLY_CNT'].sum() >= 162:\n",
    "                    ltot_index.append(uid)\n",
    "                    break"
   ]
  },
  {
   "cell_type": "code",
   "execution_count": 293,
   "metadata": {},
   "outputs": [],
   "source": [
    "processed_feature['label'] = np.where(processed_feature['id'].isin(ltot_index), 1, 0)"
   ]
  }
 ],
 "metadata": {
  "kernelspec": {
   "display_name": "Python 3",
   "language": "python",
   "name": "python3"
  },
  "language_info": {
   "codemirror_mode": {
    "name": "ipython",
    "version": 3
   },
   "file_extension": ".py",
   "mimetype": "text/x-python",
   "name": "python",
   "nbconvert_exporter": "python",
   "pygments_lexer": "ipython3",
   "version": "3.6.5"
  }
 },
 "nbformat": 4,
 "nbformat_minor": 2
}
