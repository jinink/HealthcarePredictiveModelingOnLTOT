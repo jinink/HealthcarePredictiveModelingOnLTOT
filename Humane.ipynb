{
 "cells": [
  {
   "cell_type": "code",
   "execution_count": 35,
   "metadata": {},
   "outputs": [],
   "source": [
    "import numpy as np\n",
    "import pandas as pd\n",
    "import matplotlib.pyplot as plt\n",
    "%matplotlib inline"
   ]
  },
  {
   "cell_type": "code",
   "execution_count": 40,
   "metadata": {},
   "outputs": [
    {
     "ename": "FileNotFoundError",
     "evalue": "File b'C:/Users/zhang/Desktop/NYU/2019 Fall/Humane/Data/HMAHCC_COMP.csv' does not exist",
     "output_type": "error",
     "traceback": [
      "\u001b[0;31m---------------------------------------------------------------------------\u001b[0m",
      "\u001b[0;31mFileNotFoundError\u001b[0m                         Traceback (most recent call last)",
      "\u001b[0;32m<ipython-input-40-6b8371fa8847>\u001b[0m in \u001b[0;36m<module>\u001b[0;34m\u001b[0m\n\u001b[0;32m----> 1\u001b[0;31m \u001b[0mdata2\u001b[0m \u001b[0;34m=\u001b[0m \u001b[0mpd\u001b[0m\u001b[0;34m.\u001b[0m\u001b[0mread_csv\u001b[0m\u001b[0;34m(\u001b[0m\u001b[0;34m\"C:/Users/zhang/Desktop/NYU/2019 Fall/Humane/Data/HMAHCC_COMP.csv\"\u001b[0m\u001b[0;34m)\u001b[0m\u001b[0;34m\u001b[0m\u001b[0;34m\u001b[0m\u001b[0m\n\u001b[0m",
      "\u001b[0;32m~/miniconda3/lib/python3.7/site-packages/pandas/io/parsers.py\u001b[0m in \u001b[0;36mparser_f\u001b[0;34m(filepath_or_buffer, sep, delimiter, header, names, index_col, usecols, squeeze, prefix, mangle_dupe_cols, dtype, engine, converters, true_values, false_values, skipinitialspace, skiprows, nrows, na_values, keep_default_na, na_filter, verbose, skip_blank_lines, parse_dates, infer_datetime_format, keep_date_col, date_parser, dayfirst, iterator, chunksize, compression, thousands, decimal, lineterminator, quotechar, quoting, escapechar, comment, encoding, dialect, tupleize_cols, error_bad_lines, warn_bad_lines, skipfooter, doublequote, delim_whitespace, low_memory, memory_map, float_precision)\u001b[0m\n\u001b[1;32m    676\u001b[0m                     skip_blank_lines=skip_blank_lines)\n\u001b[1;32m    677\u001b[0m \u001b[0;34m\u001b[0m\u001b[0m\n\u001b[0;32m--> 678\u001b[0;31m         \u001b[0;32mreturn\u001b[0m \u001b[0m_read\u001b[0m\u001b[0;34m(\u001b[0m\u001b[0mfilepath_or_buffer\u001b[0m\u001b[0;34m,\u001b[0m \u001b[0mkwds\u001b[0m\u001b[0;34m)\u001b[0m\u001b[0;34m\u001b[0m\u001b[0;34m\u001b[0m\u001b[0m\n\u001b[0m\u001b[1;32m    679\u001b[0m \u001b[0;34m\u001b[0m\u001b[0m\n\u001b[1;32m    680\u001b[0m     \u001b[0mparser_f\u001b[0m\u001b[0;34m.\u001b[0m\u001b[0m__name__\u001b[0m \u001b[0;34m=\u001b[0m \u001b[0mname\u001b[0m\u001b[0;34m\u001b[0m\u001b[0;34m\u001b[0m\u001b[0m\n",
      "\u001b[0;32m~/miniconda3/lib/python3.7/site-packages/pandas/io/parsers.py\u001b[0m in \u001b[0;36m_read\u001b[0;34m(filepath_or_buffer, kwds)\u001b[0m\n\u001b[1;32m    438\u001b[0m \u001b[0;34m\u001b[0m\u001b[0m\n\u001b[1;32m    439\u001b[0m     \u001b[0;31m# Create the parser.\u001b[0m\u001b[0;34m\u001b[0m\u001b[0;34m\u001b[0m\u001b[0;34m\u001b[0m\u001b[0m\n\u001b[0;32m--> 440\u001b[0;31m     \u001b[0mparser\u001b[0m \u001b[0;34m=\u001b[0m \u001b[0mTextFileReader\u001b[0m\u001b[0;34m(\u001b[0m\u001b[0mfilepath_or_buffer\u001b[0m\u001b[0;34m,\u001b[0m \u001b[0;34m**\u001b[0m\u001b[0mkwds\u001b[0m\u001b[0;34m)\u001b[0m\u001b[0;34m\u001b[0m\u001b[0;34m\u001b[0m\u001b[0m\n\u001b[0m\u001b[1;32m    441\u001b[0m \u001b[0;34m\u001b[0m\u001b[0m\n\u001b[1;32m    442\u001b[0m     \u001b[0;32mif\u001b[0m \u001b[0mchunksize\u001b[0m \u001b[0;32mor\u001b[0m \u001b[0miterator\u001b[0m\u001b[0;34m:\u001b[0m\u001b[0;34m\u001b[0m\u001b[0;34m\u001b[0m\u001b[0m\n",
      "\u001b[0;32m~/miniconda3/lib/python3.7/site-packages/pandas/io/parsers.py\u001b[0m in \u001b[0;36m__init__\u001b[0;34m(self, f, engine, **kwds)\u001b[0m\n\u001b[1;32m    785\u001b[0m             \u001b[0mself\u001b[0m\u001b[0;34m.\u001b[0m\u001b[0moptions\u001b[0m\u001b[0;34m[\u001b[0m\u001b[0;34m'has_index_names'\u001b[0m\u001b[0;34m]\u001b[0m \u001b[0;34m=\u001b[0m \u001b[0mkwds\u001b[0m\u001b[0;34m[\u001b[0m\u001b[0;34m'has_index_names'\u001b[0m\u001b[0;34m]\u001b[0m\u001b[0;34m\u001b[0m\u001b[0;34m\u001b[0m\u001b[0m\n\u001b[1;32m    786\u001b[0m \u001b[0;34m\u001b[0m\u001b[0m\n\u001b[0;32m--> 787\u001b[0;31m         \u001b[0mself\u001b[0m\u001b[0;34m.\u001b[0m\u001b[0m_make_engine\u001b[0m\u001b[0;34m(\u001b[0m\u001b[0mself\u001b[0m\u001b[0;34m.\u001b[0m\u001b[0mengine\u001b[0m\u001b[0;34m)\u001b[0m\u001b[0;34m\u001b[0m\u001b[0;34m\u001b[0m\u001b[0m\n\u001b[0m\u001b[1;32m    788\u001b[0m \u001b[0;34m\u001b[0m\u001b[0m\n\u001b[1;32m    789\u001b[0m     \u001b[0;32mdef\u001b[0m \u001b[0mclose\u001b[0m\u001b[0;34m(\u001b[0m\u001b[0mself\u001b[0m\u001b[0;34m)\u001b[0m\u001b[0;34m:\u001b[0m\u001b[0;34m\u001b[0m\u001b[0;34m\u001b[0m\u001b[0m\n",
      "\u001b[0;32m~/miniconda3/lib/python3.7/site-packages/pandas/io/parsers.py\u001b[0m in \u001b[0;36m_make_engine\u001b[0;34m(self, engine)\u001b[0m\n\u001b[1;32m   1012\u001b[0m     \u001b[0;32mdef\u001b[0m \u001b[0m_make_engine\u001b[0m\u001b[0;34m(\u001b[0m\u001b[0mself\u001b[0m\u001b[0;34m,\u001b[0m \u001b[0mengine\u001b[0m\u001b[0;34m=\u001b[0m\u001b[0;34m'c'\u001b[0m\u001b[0;34m)\u001b[0m\u001b[0;34m:\u001b[0m\u001b[0;34m\u001b[0m\u001b[0;34m\u001b[0m\u001b[0m\n\u001b[1;32m   1013\u001b[0m         \u001b[0;32mif\u001b[0m \u001b[0mengine\u001b[0m \u001b[0;34m==\u001b[0m \u001b[0;34m'c'\u001b[0m\u001b[0;34m:\u001b[0m\u001b[0;34m\u001b[0m\u001b[0;34m\u001b[0m\u001b[0m\n\u001b[0;32m-> 1014\u001b[0;31m             \u001b[0mself\u001b[0m\u001b[0;34m.\u001b[0m\u001b[0m_engine\u001b[0m \u001b[0;34m=\u001b[0m \u001b[0mCParserWrapper\u001b[0m\u001b[0;34m(\u001b[0m\u001b[0mself\u001b[0m\u001b[0;34m.\u001b[0m\u001b[0mf\u001b[0m\u001b[0;34m,\u001b[0m \u001b[0;34m**\u001b[0m\u001b[0mself\u001b[0m\u001b[0;34m.\u001b[0m\u001b[0moptions\u001b[0m\u001b[0;34m)\u001b[0m\u001b[0;34m\u001b[0m\u001b[0;34m\u001b[0m\u001b[0m\n\u001b[0m\u001b[1;32m   1015\u001b[0m         \u001b[0;32melse\u001b[0m\u001b[0;34m:\u001b[0m\u001b[0;34m\u001b[0m\u001b[0;34m\u001b[0m\u001b[0m\n\u001b[1;32m   1016\u001b[0m             \u001b[0;32mif\u001b[0m \u001b[0mengine\u001b[0m \u001b[0;34m==\u001b[0m \u001b[0;34m'python'\u001b[0m\u001b[0;34m:\u001b[0m\u001b[0;34m\u001b[0m\u001b[0;34m\u001b[0m\u001b[0m\n",
      "\u001b[0;32m~/miniconda3/lib/python3.7/site-packages/pandas/io/parsers.py\u001b[0m in \u001b[0;36m__init__\u001b[0;34m(self, src, **kwds)\u001b[0m\n\u001b[1;32m   1706\u001b[0m         \u001b[0mkwds\u001b[0m\u001b[0;34m[\u001b[0m\u001b[0;34m'usecols'\u001b[0m\u001b[0;34m]\u001b[0m \u001b[0;34m=\u001b[0m \u001b[0mself\u001b[0m\u001b[0;34m.\u001b[0m\u001b[0musecols\u001b[0m\u001b[0;34m\u001b[0m\u001b[0;34m\u001b[0m\u001b[0m\n\u001b[1;32m   1707\u001b[0m \u001b[0;34m\u001b[0m\u001b[0m\n\u001b[0;32m-> 1708\u001b[0;31m         \u001b[0mself\u001b[0m\u001b[0;34m.\u001b[0m\u001b[0m_reader\u001b[0m \u001b[0;34m=\u001b[0m \u001b[0mparsers\u001b[0m\u001b[0;34m.\u001b[0m\u001b[0mTextReader\u001b[0m\u001b[0;34m(\u001b[0m\u001b[0msrc\u001b[0m\u001b[0;34m,\u001b[0m \u001b[0;34m**\u001b[0m\u001b[0mkwds\u001b[0m\u001b[0;34m)\u001b[0m\u001b[0;34m\u001b[0m\u001b[0;34m\u001b[0m\u001b[0m\n\u001b[0m\u001b[1;32m   1709\u001b[0m \u001b[0;34m\u001b[0m\u001b[0m\n\u001b[1;32m   1710\u001b[0m         \u001b[0mpassed_names\u001b[0m \u001b[0;34m=\u001b[0m \u001b[0mself\u001b[0m\u001b[0;34m.\u001b[0m\u001b[0mnames\u001b[0m \u001b[0;32mis\u001b[0m \u001b[0;32mNone\u001b[0m\u001b[0;34m\u001b[0m\u001b[0;34m\u001b[0m\u001b[0m\n",
      "\u001b[0;32mpandas/_libs/parsers.pyx\u001b[0m in \u001b[0;36mpandas._libs.parsers.TextReader.__cinit__\u001b[0;34m()\u001b[0m\n",
      "\u001b[0;32mpandas/_libs/parsers.pyx\u001b[0m in \u001b[0;36mpandas._libs.parsers.TextReader._setup_parser_source\u001b[0;34m()\u001b[0m\n",
      "\u001b[0;31mFileNotFoundError\u001b[0m: File b'C:/Users/zhang/Desktop/NYU/2019 Fall/Humane/Data/HMAHCC_COMP.csv' does not exist"
     ]
    }
   ],
   "source": [
    "data2 = pd.read_csv(\"C:/Users/zhang/Desktop/NYU/2019 Fall/Humane/Data/HMAHCC_COMP.csv\")"
   ]
  },
  {
   "cell_type": "code",
   "execution_count": 245,
   "metadata": {},
   "outputs": [],
   "source": [
    "data = data2[data2.index <= 50000]"
   ]
  },
  {
   "cell_type": "code",
   "execution_count": 246,
   "metadata": {},
   "outputs": [
    {
     "name": "stderr",
     "output_type": "stream",
     "text": [
      "D:\\Downloads\\Anaconda\\Anaconda3\\lib\\site-packages\\ipykernel_launcher.py:1: SettingWithCopyWarning: \n",
      "A value is trying to be set on a copy of a slice from a DataFrame\n",
      "\n",
      "See the caveats in the documentation: http://pandas.pydata.org/pandas-docs/stable/indexing.html#indexing-view-versus-copy\n",
      "  \"\"\"Entry point for launching an IPython kernel.\n"
     ]
    }
   ],
   "source": [
    "data.drop_duplicates(inplace = True)"
   ]
  },
  {
   "cell_type": "code",
   "execution_count": 247,
   "metadata": {},
   "outputs": [
    {
     "name": "stderr",
     "output_type": "stream",
     "text": [
      "D:\\Downloads\\Anaconda\\Anaconda3\\lib\\site-packages\\ipykernel_launcher.py:6: SettingWithCopyWarning: \n",
      "A value is trying to be set on a copy of a slice from a DataFrame.\n",
      "Try using .loc[row_indexer,col_indexer] = value instead\n",
      "\n",
      "See the caveats in the documentation: http://pandas.pydata.org/pandas-docs/stable/indexing.html#indexing-view-versus-copy\n",
      "  \n"
     ]
    }
   ],
   "source": [
    "# Find <id, Days> where 'RX Claim - Paid' or 'RX Claim - New Drug' or 'RX CLaim - First Time Main Order' has the same generic as\n",
    "# 'RX Claim - Rejected' when 'RX Claim - Rejected' == 'REVERSAL'\n",
    "\n",
    "# We only care about Opioid rows\n",
    "sub_data = data[(data['event_attr1'] == 'REVERSAL') | (data['MME'].isna() == False)]\n",
    "sub_data['Generic'] = np.where(sub_data['event_descr'].isin(['RX Claim - Rejected']), \\\n",
    "                               sub_data['event_attr6'], sub_data['event_attr8'])"
   ]
  },
  {
   "cell_type": "code",
   "execution_count": 248,
   "metadata": {},
   "outputs": [],
   "source": [
    "# Only include Opioid generic\n",
    "\n",
    "opioid_generic = sub_data[sub_data['event_descr'] == 'RX Claim - Paid']['Generic'].unique()\n",
    "sub_data = sub_data[sub_data['Generic'].isin(opioid_generic)]"
   ]
  },
  {
   "cell_type": "code",
   "execution_count": 249,
   "metadata": {},
   "outputs": [],
   "source": [
    "# Running on Colab\n",
    "\n",
    "id_day = []\n",
    "for uid in sub_data['id'].unique():\n",
    "    for day in sub_data[sub_data['id'] == uid]['Days'].unique():\n",
    "        sample = sub_data[(sub_data['id'] == uid) & (sub_data['Days'] == day)]\n",
    "        if 'REVERSAL' in sample['event_attr1'].unique() and sample['event_descr'].nunique() >= 2\\\n",
    "        and sample['Generic'].nunique() < sample.shape[0] :\n",
    "            id_day.append([uid, day])"
   ]
  },
  {
   "cell_type": "code",
   "execution_count": 250,
   "metadata": {},
   "outputs": [
    {
     "data": {
      "text/plain": [
       "[['ID10230809175', 800], ['ID10522725996', 470], ['ID10680847713', 707]]"
      ]
     },
     "execution_count": 250,
     "metadata": {},
     "output_type": "execute_result"
    }
   ],
   "source": [
    "id_day"
   ]
  },
  {
   "cell_type": "code",
   "execution_count": 251,
   "metadata": {},
   "outputs": [
    {
     "name": "stderr",
     "output_type": "stream",
     "text": [
      "D:\\Downloads\\Anaconda\\Anaconda3\\lib\\site-packages\\pandas\\core\\indexing.py:543: SettingWithCopyWarning: \n",
      "A value is trying to be set on a copy of a slice from a DataFrame.\n",
      "Try using .loc[row_indexer,col_indexer] = value instead\n",
      "\n",
      "See the caveats in the documentation: http://pandas.pydata.org/pandas-docs/stable/indexing.html#indexing-view-versus-copy\n",
      "  self.obj[item] = s\n"
     ]
    }
   ],
   "source": [
    "# ????? need more detail to be explained\n",
    "\n",
    "for uid, day in id_day:\n",
    "    for generic in data[(data['id'] == uid) & (data['Days'] == day) & (data['event_attr1'] == 'REVERSAL')]['event_attr6'].unique():\n",
    "        if data[(data['id'] == uid) & (data['Days'] == day) & \\\n",
    "                (data['event_descr'] == 'RX Claim - Paid') & (data['event_attr8'] == generic)].shape[0] > 0:\n",
    "            \n",
    "            row_index_paid = data[(data['id'] == uid) & (data['Days'] == day) & \\\n",
    "                                  (data['event_descr'] == 'RX Claim - Paid') & (data['event_attr8'] == generic)].index\n",
    "            for i in row_index_paid:\n",
    "                data.at[row_index_paid, 'PAY_DAY_SUPPLY_CNT'] = 0\n",
    "                data.at[row_index_paid, 'PAYABLE_QTY'] = 0\n",
    "                data.at[row_index_paid, 'MME'] = 0\n",
    "            \n",
    "        if data[(data['id'] == uid) & (data['Days'] == day) & \\\n",
    "                (data['event_descr'] == 'RX Claim - New Drug') & (data['event_attr8'] == generic)].shape[0] > 0:\n",
    "            \n",
    "            row_index_new = data[(data['id'] == uid) & (data['Days'] == day) & \\\n",
    "                                  (data['event_descr'] == 'RX Claim - New Drug') & (data['event_attr8'] == generic)].index\n",
    "            for i in row_index_paid:\n",
    "                data.at[row_index_new, 'PAY_DAY_SUPPLY_CNT'] = 0\n",
    "                data.at[row_index_new, 'PAYABLE_QTY'] = 0\n",
    "                data.at[row_index_new, 'MME'] = 0\n",
    "            \n",
    "        if data[(data['id'] == uid) & (data['Days'] == day) & \\\n",
    "                (data['event_descr'] == 'RX Claim - First Time Mail Order') & (data['event_attr8'] == generic)].shape[0] > 0:\n",
    "            \n",
    "            row_index_mail = data[(data['id'] == uid) & (data['Days'] == day) & \\\n",
    "                                 (data['event_descr'] == 'RX Claim - First Time Mail Order') & \\\n",
    "                                 (data['event_attr8'] == generic)].index\n",
    "            for i in row_index_paid:\n",
    "                data.at[row_index_mail, 'PAY_DAY_SUPPLY_CNT'] = 0\n",
    "                data.at[row_index_mail, 'PAYABLE_QTY'] = 0\n",
    "                data.at[row_index_mail, 'MME'] = 0"
   ]
  },
  {
   "cell_type": "code",
   "execution_count": 254,
   "metadata": {},
   "outputs": [
    {
     "name": "stderr",
     "output_type": "stream",
     "text": [
      "D:\\Downloads\\Anaconda\\Anaconda3\\lib\\site-packages\\pandas\\core\\indexing.py:543: SettingWithCopyWarning: \n",
      "A value is trying to be set on a copy of a slice from a DataFrame.\n",
      "Try using .loc[row_indexer,col_indexer] = value instead\n",
      "\n",
      "See the caveats in the documentation: http://pandas.pydata.org/pandas-docs/stable/indexing.html#indexing-view-versus-copy\n",
      "  self.obj[item] = s\n"
     ]
    }
   ],
   "source": [
    "# Find duplicates of \"RX Claim Paid\", \"RX Claim New Drug\", 'RX Claim First Time Mail Order' in the same day, if opioid\n",
    "# Pick the max supply day and change the other as 0\n",
    "\n",
    "opioid_data = data[data['MME'].isna() == False]\n",
    "opioid_data = opioid_data[opioid_data.duplicated(['id', 'event_descr', 'Days'], keep = False)]\n",
    "opioid_data_max_supply = opioid_data.sort_values(['id', 'event_descr', 'Days', 'PAY_DAY_SUPPLY_CNT'])\\\n",
    "                                    .drop_duplicates(['id', 'event_descr', 'Days'], keep = 'last')\n",
    "change_id = np.setdiff1d(np.array(opioid_data.index), np.array(opioid_data_max_supply.index))\n",
    "for uid in c`hange_id:\n",
    "    data.loc[uid, 'PAY_DAY_SUPPLY_CNT'] = 0"
   ]
  },
  {
   "cell_type": "code",
   "execution_count": 39,
   "metadata": {},
   "outputs": [
    {
     "ename": "NameError",
     "evalue": "name 'data' is not defined",
     "output_type": "error",
     "traceback": [
      "\u001b[0;31m---------------------------------------------------------------------------\u001b[0m",
      "\u001b[0;31mNameError\u001b[0m                                 Traceback (most recent call last)",
      "\u001b[0;32m<ipython-input-39-6159adcce8b7>\u001b[0m in \u001b[0;36m<module>\u001b[0;34m\u001b[0m\n\u001b[0;32m----> 1\u001b[0;31m \u001b[0mfeature\u001b[0m \u001b[0;34m=\u001b[0m \u001b[0mdata\u001b[0m\u001b[0;34m[\u001b[0m\u001b[0mdata\u001b[0m\u001b[0;34m[\u001b[0m\u001b[0;34m'Days'\u001b[0m\u001b[0;34m]\u001b[0m \u001b[0;34m<\u001b[0m \u001b[0;36m0\u001b[0m\u001b[0;34m]\u001b[0m\u001b[0;34m\u001b[0m\u001b[0;34m\u001b[0m\u001b[0m\n\u001b[0m\u001b[1;32m      2\u001b[0m \u001b[0mtarget\u001b[0m \u001b[0;34m=\u001b[0m \u001b[0mdata\u001b[0m\u001b[0;34m[\u001b[0m\u001b[0mdata\u001b[0m\u001b[0;34m[\u001b[0m\u001b[0;34m'Days'\u001b[0m\u001b[0;34m]\u001b[0m \u001b[0;34m>=\u001b[0m \u001b[0;36m0\u001b[0m\u001b[0;34m]\u001b[0m\u001b[0;34m\u001b[0m\u001b[0;34m\u001b[0m\u001b[0m\n",
      "\u001b[0;31mNameError\u001b[0m: name 'data' is not defined"
     ]
    }
   ],
   "source": [
    "feature = data[data['Days'] < 0]\n",
    "target = data[data['Days'] >= 0]"
   ]
  },
  {
   "cell_type": "code",
   "execution_count": 256,
   "metadata": {},
   "outputs": [],
   "source": [
    "# Extract total other diagnosis times, total cost, total paid\n",
    "# What is not extracted: drug class, brand name, drug description\n",
    "def RX_claim_paid_other(uid):\n",
    "    instance = feature[(feature['id'] == uid) & (feature['event_descr'] == 'RX Claim - Paid') & (feature['MME'].isna() == True)]\n",
    "    if instance.shape[0] != 0:\n",
    "        total_RX_claim_paid_other = instance.shape[0]\n",
    "        total_RX_claim_paid_cost_other = instance['event_attr3'].astype('float32').sum()\n",
    "        total_RX_claim_paid_paid_other = instance['event_attr4'].astype('float32').sum()\n",
    "    if instance.shape[0] == 0:    \n",
    "        total_RX_claim_paid_other = 0\n",
    "        total_RX_claim_paid_cost_other = 0\n",
    "        total_RX_claim_paid_paid_other = 0   \n",
    "        \n",
    "    return [total_RX_claim_paid_other, total_RX_claim_paid_cost_other, total_RX_claim_paid_paid_other]"
   ]
  },
  {
   "cell_type": "code",
   "execution_count": 257,
   "metadata": {},
   "outputs": [],
   "source": [
    "# Extract total opioid times, total cost, total paid, supply count, quantity, MME\n",
    "# What is not extracted: brand name, drug description, drug type, Specialty, Speciatly2, Specialty3\n",
    "def RX_claim_paid_opioid(uid):\n",
    "    instance = feature[(feature['id'] == uid) & (feature['event_descr'] == 'RX Claim - Paid') & (feature['MME'].isna() == False)]\n",
    "    if instance.shape[0] != 0:\n",
    "        total_RX_claim_paid_opioid = instance.shape[0]\n",
    "        total_RX_claim_paid_cost_opioid = instance['event_attr3'].astype('float32').sum()\n",
    "        total_RX_claim_paid_paid_opioid = instance['event_attr4'].astype('float32').sum()\n",
    "        total_RX_claim_paid_supply_opioid = instance['PAY_DAY_SUPPLY_CNT'].sum()\n",
    "        total_RX_claim_paid_quantity_opioid = instance['PAYABLE_QTY'].sum() \n",
    "        total_RX_claim_paid_MME_opioid = instance['MME'].sum()\n",
    "    if instance.shape[0] == 0:    \n",
    "        total_RX_claim_paid_opioid = 0\n",
    "        total_RX_claim_paid_cost_opioid = 0\n",
    "        total_RX_claim_paid_paid_opioid = 0\n",
    "        total_RX_claim_paid_supply_opioid = 0\n",
    "        total_RX_claim_paid_quantity_opioid = 0\n",
    "        total_RX_claim_paid_MME_opioid = 0       \n",
    "        \n",
    "    return [total_RX_claim_paid_opioid, total_RX_claim_paid_cost_opioid, total_RX_claim_paid_paid_opioid,\\\n",
    "            total_RX_claim_paid_supply_opioid, total_RX_claim_paid_quantity_opioid, total_RX_claim_paid_MME_opioid]"
   ]
  },
  {
   "cell_type": "code",
   "execution_count": 258,
   "metadata": {},
   "outputs": [],
   "source": [
    "# Extract total other new drug times\n",
    "\n",
    "def RX_claim_new_other(uid):\n",
    "    instance = feature[(feature['id'] == uid) & (feature['event_descr'] == 'RX Claim - New Drug') &\\\n",
    "                       (feature['MME'].isna() == True)]\n",
    "    if instance.shape[0] != 0:\n",
    "        total_RX_claim_new_other = instance.shape[0]\n",
    "    if instance.shape[0] == 0:    \n",
    "        total_RX_claim_new_other = 0  \n",
    "        \n",
    "    return [total_RX_claim_new_other]"
   ]
  },
  {
   "cell_type": "code",
   "execution_count": 259,
   "metadata": {},
   "outputs": [],
   "source": [
    "# Extract new drug opioid times, total cost, total paid, supply count, quantity, MME\n",
    "\n",
    "def RX_claim_new_opioid(uid):\n",
    "    instance = feature[(feature['id'] == uid) & (feature['event_descr'] == 'RX Claim - New Drug') &\\\n",
    "                       (feature['MME'].isna() == False)]\n",
    "    if instance.shape[0] != 0:\n",
    "        total_RX_claim_new_opioid = instance.shape[0]\n",
    "        total_RX_claim_new_supply_opioid = instance['PAY_DAY_SUPPLY_CNT'].sum()\n",
    "        total_RX_claim_new_quantity_opioid = instance['PAYABLE_QTY'].sum() \n",
    "        total_RX_claim_new_MME_opioid = instance['MME'].sum()\n",
    "    if instance.shape[0] == 0:    \n",
    "        total_RX_claim_new_opioid = 0\n",
    "        total_RX_claim_new_supply_opioid = 0\n",
    "        total_RX_claim_new_quantity_opioid = 0\n",
    "        total_RX_claim_new_MME_opioid = 0       \n",
    "        \n",
    "    return [total_RX_claim_new_opioid, total_RX_claim_new_supply_opioid, total_RX_claim_new_quantity_opioid,\\\n",
    "            total_RX_claim_new_MME_opioid]"
   ]
  },
  {
   "cell_type": "code",
   "execution_count": 260,
   "metadata": {},
   "outputs": [],
   "source": [
    "# Extract total other first mail times\n",
    "\n",
    "def RX_claim_mail_other(uid):\n",
    "    instance = feature[(feature['id'] == uid) & (feature['event_descr'] == 'RX Claim - First Time Mail Order') &\\\n",
    "                       (feature['MME'].isna() == True)]\n",
    "    if instance.shape[0] != 0:\n",
    "        total_RX_claim_mail_other = instance.shape[0]\n",
    "    if instance.shape[0] == 0:    \n",
    "        total_RX_claim_mail_other = 0  \n",
    "        \n",
    "    return [total_RX_claim_mail_other]"
   ]
  },
  {
   "cell_type": "code",
   "execution_count": 261,
   "metadata": {},
   "outputs": [],
   "source": [
    "# Extract opioid first mail times, supply count, quantity, MME\n",
    "\n",
    "def RX_claim_mail_opioid(uid):\n",
    "    instance = feature[(feature['id'] == uid) & (feature['event_descr'] == 'RX Claim - First Time Mail Order') &\\\n",
    "                       (feature['MME'].isna() == False)]\n",
    "    if instance.shape[0] != 0:\n",
    "        total_RX_claim_mail_opioid = instance.shape[0]\n",
    "        total_RX_claim_mail_supply_opioid = instance['PAY_DAY_SUPPLY_CNT'].sum()\n",
    "        total_RX_claim_mail_quantity_opioid = instance['PAYABLE_QTY'].sum() \n",
    "        total_RX_claim_mail_MME_opioid = instance['MME'].sum()\n",
    "    if instance.shape[0] == 0:    \n",
    "        total_RX_claim_mail_opioid = 0\n",
    "        total_RX_claim_mail_supply_opioid = 0\n",
    "        total_RX_claim_mail_quantity_opioid = 0\n",
    "        total_RX_claim_mail_MME_opioid = 0       \n",
    "        \n",
    "    return [total_RX_claim_mail_opioid, total_RX_claim_mail_supply_opioid, total_RX_claim_mail_quantity_opioid,\\\n",
    "            total_RX_claim_mail_MME_opioid]"
   ]
  },
  {
   "cell_type": "code",
   "execution_count": 262,
   "metadata": {},
   "outputs": [],
   "source": [
    "# Extract total reject times\n",
    "\n",
    "def RX_claim_reject(uid):\n",
    "    instance = feature[(feature['id'] == uid) & (feature['event_descr'] == 'RX Claim - Reject')]\n",
    "    if instance.shape[0] != 0:\n",
    "        total_RX_claim_reject = instance.shape[0]\n",
    "    if instance.shape[0] == 0:    \n",
    "        total_RX_claim_reject = 0  \n",
    "        \n",
    "    return [total_RX_claim_reject]"
   ]
  },
  {
   "cell_type": "code",
   "execution_count": 263,
   "metadata": {},
   "outputs": [],
   "source": [
    "# Extract total inbound call by mbr times\n",
    "\n",
    "def Inbound_call_by_mbr(uid):\n",
    "    instance = feature[(feature['id'] == uid) & (feature['event_descr'] == 'Inbound Call by Mbr')]\n",
    "    if instance.shape[0] != 0:\n",
    "        inbound_call_by_mbr = instance.shape[0]\n",
    "    if instance.shape[0] == 0:    \n",
    "        inbound_call_by_mbr = 0  \n",
    "        \n",
    "    return [inbound_call_by_mbr]"
   ]
  },
  {
   "cell_type": "code",
   "execution_count": 264,
   "metadata": {},
   "outputs": [],
   "source": [
    "# Extract total inbound call by other times\n",
    "\n",
    "def Inbound_call_by_other(uid):\n",
    "    instance = feature[(feature['id'] == uid) & (feature['event_descr'] == 'Inbound Call by Other')]\n",
    "    if instance.shape[0] != 0:\n",
    "        inbound_call_by_other = instance.shape[0]\n",
    "    if instance.shape[0] == 0:    \n",
    "        inbound_call_by_other = 0  \n",
    "        \n",
    "    return [inbound_call_by_other]"
   ]
  },
  {
   "cell_type": "code",
   "execution_count": 265,
   "metadata": {},
   "outputs": [],
   "source": [
    "# Extract total inbound call by prov times\n",
    "\n",
    "def Inbound_call_by_prov(uid):\n",
    "    instance = feature[(feature['id'] == uid) & (feature['event_descr'] == 'Inbound Call by Prov')]\n",
    "    if instance.shape[0] != 0:\n",
    "        inbound_call_by_prov = instance.shape[0]\n",
    "    if instance.shape[0] == 0:    \n",
    "        inbound_call_by_prov = 0  \n",
    "        \n",
    "    return [inbound_call_by_prov]"
   ]
  },
  {
   "cell_type": "code",
   "execution_count": 266,
   "metadata": {},
   "outputs": [],
   "source": [
    "# Extract total fully paid claim times, total charge, total net paid, total responsible amount\n",
    "\n",
    "def Fully_paid_claim(uid):\n",
    "    instance = feature[(feature['id'] == uid) & (feature['event_descr'] == 'Fully Paid Claim')]\n",
    "    if instance.shape[0] != 0:\n",
    "        fully_paid_claim = instance.shape[0]\n",
    "        fully_paid_claim_charge = instance['event_attr3'].astype('float32').sum()\n",
    "        fully_paid_claim_paid = instance['event_attr4'].astype('float32').sum()\n",
    "        fully_paid_claim_responsible = instance['event_attr5'].astype('float32').sum()\n",
    "    if instance.shape[0] == 0:    \n",
    "        fully_paid_claim = 0\n",
    "        fully_paid_claim_charge = 0\n",
    "        fully_paid_claim_paid = 0\n",
    "        fully_paid_claim_responsible = 0   \n",
    "        \n",
    "    return [fully_paid_claim, fully_paid_claim_charge, fully_paid_claim_paid, fully_paid_claim_responsible]"
   ]
  },
  {
   "cell_type": "code",
   "execution_count": 267,
   "metadata": {},
   "outputs": [],
   "source": [
    "# Extract total New Diagonosis Top 5 claim times, total charge, total net paid, total responsible amount\n",
    "\n",
    "def Top_five(uid):\n",
    "    instance = feature[(feature['id'] == uid) & (feature['event_descr'] == 'New diagnosis - Top 5')]\n",
    "    if instance.shape[0] != 0:\n",
    "        top_five = instance.shape[0]\n",
    "        top_five_charge = instance['event_attr3'].astype('float32').sum()\n",
    "        top_five_paid = instance['event_attr4'].astype('float32').sum()\n",
    "        top_five_responsible = instance['event_attr5'].astype('float32').sum()\n",
    "    if instance.shape[0] == 0:    \n",
    "        top_five = 0\n",
    "        top_five_charge = 0\n",
    "        top_five_paid = 0\n",
    "        top_five_responsible = 0   \n",
    "        \n",
    "    return [top_five, top_five_charge, top_five_paid, top_five_responsible]"
   ]
  },
  {
   "cell_type": "code",
   "execution_count": 268,
   "metadata": {},
   "outputs": [],
   "source": [
    "# Extract total New Diagonosis CAD claim times, total charge, total net paid, total responsible amount\n",
    "\n",
    "def CAD(uid):\n",
    "    instance = feature[(feature['id'] == uid) & (feature['event_descr'] == 'New diagnosis - CAD')]\n",
    "    if instance.shape[0] != 0:\n",
    "        cad = instance.shape[0]\n",
    "        cad_charge = instance['event_attr3'].astype('float32').sum()\n",
    "        cad_paid = instance['event_attr4'].astype('float32').sum()\n",
    "        cad_responsible = instance['event_attr5'].astype('float32').sum()\n",
    "    if instance.shape[0] == 0:    \n",
    "        cad = 0\n",
    "        cad_charge = 0\n",
    "        cad_paid = 0\n",
    "        cad_responsible = 0   \n",
    "        \n",
    "    return [cad, cad_charge, cad_paid, cad_responsible]"
   ]
  },
  {
   "cell_type": "code",
   "execution_count": 269,
   "metadata": {},
   "outputs": [],
   "source": [
    "# Extract total New Diagonosis Diabetes claim times, total charge, total net paid, total responsible amount\n",
    "\n",
    "def Diabetes(uid):\n",
    "    instance = feature[(feature['id'] == uid) & (feature['event_descr'] == 'New diagnosis - Diabetes')]\n",
    "    if instance.shape[0] != 0:\n",
    "        diabetes = instance.shape[0]\n",
    "        diabetes_charge = instance['event_attr3'].astype('float32').sum()\n",
    "        diabetes_paid = instance['event_attr4'].astype('float32').sum()\n",
    "        diabetes_responsible = instance['event_attr5'].astype('float32').sum()\n",
    "    if instance.shape[0] == 0:    \n",
    "        diabetes = 0\n",
    "        diabetes_charge = 0\n",
    "        diabetes_paid = 0\n",
    "        diabetes_responsible = 0   \n",
    "        \n",
    "    return [diabetes, diabetes_charge, diabetes_paid, diabetes_responsible]"
   ]
  },
  {
   "cell_type": "code",
   "execution_count": 270,
   "metadata": {},
   "outputs": [],
   "source": [
    "# Extract total New Diagonosis Hypertension claim times, total charge, total net paid, total responsible amount\n",
    "\n",
    "def Hypertension(uid):\n",
    "    instance = feature[(feature['id'] == uid) & (feature['event_descr'] == 'New diagnosis - Hypertension')]\n",
    "    if instance.shape[0] != 0:\n",
    "        hypertension = instance.shape[0]\n",
    "        hypertension_charge = instance['event_attr3'].astype('float32').sum()\n",
    "        hypertension_paid = instance['event_attr4'].astype('float32').sum()\n",
    "        hypertension_responsible = instance['event_attr5'].astype('float32').sum()\n",
    "    if instance.shape[0] == 0:    \n",
    "        hypertension = 0\n",
    "        hypertension_charge = 0\n",
    "        hypertension_paid = 0\n",
    "        hypertension_responsible = 0   \n",
    "        \n",
    "    return [hypertension, hypertension_charge, hypertension_paid, hypertension_responsible]"
   ]
  },
  {
   "cell_type": "code",
   "execution_count": 271,
   "metadata": {},
   "outputs": [],
   "source": [
    "# Extract total New Diagonosis CPD claim times, total charge, total net paid, total responsible amount\n",
    "\n",
    "def CPD(uid):\n",
    "    instance = feature[(feature['id'] == uid) & (feature['event_descr'] == 'New diagnosis - CPD')]\n",
    "    if instance.shape[0] != 0:\n",
    "        cpd = instance.shape[0]\n",
    "        cpd_charge = instance['event_attr3'].astype('float32').sum()\n",
    "        cpd_paid = instance['event_attr4'].astype('float32').sum()\n",
    "        cpd_responsible = instance['event_attr5'].astype('float32').sum()\n",
    "    if instance.shape[0] == 0:    \n",
    "        cpd = 0\n",
    "        cpd_charge = 0\n",
    "        cpd_paid = 0\n",
    "        cpd_responsible = 0   \n",
    "        \n",
    "    return [cpd, cpd_charge, cpd_paid, cpd_responsible]"
   ]
  },
  {
   "cell_type": "code",
   "execution_count": 272,
   "metadata": {},
   "outputs": [],
   "source": [
    "# Extract total New Diagonosis CHF claim times, total charge, total net paid, total responsible amount\n",
    "\n",
    "def CHF(uid):\n",
    "    instance = feature[(feature['id'] == uid) & (feature['event_descr'] == 'New diagnosis - CHF')]\n",
    "    if instance.shape[0] != 0:\n",
    "        chf = instance.shape[0]\n",
    "        chf_charge = instance['event_attr3'].astype('float32').sum()\n",
    "        chf_paid = instance['event_attr4'].astype('float32').sum()\n",
    "        chf_responsible = instance['event_attr5'].astype('float32').sum()\n",
    "    if instance.shape[0] == 0:    \n",
    "        chf = 0\n",
    "        chf_charge = 0\n",
    "        chf_paid = 0\n",
    "        chf_responsible = 0   \n",
    "        \n",
    "    return [chf, chf_charge, chf_paid, chf_responsible]"
   ]
  },
  {
   "cell_type": "code",
   "execution_count": 273,
   "metadata": {},
   "outputs": [],
   "source": [
    "# Extract total Surgery claim times, total charge, total net paid, total responsible amount\n",
    "\n",
    "def Surgery(uid):\n",
    "    instance = feature[(feature['id'] == uid) & (feature['event_descr'] == 'Surgery')]\n",
    "    if instance.shape[0] != 0:\n",
    "        surgery = instance.shape[0]\n",
    "        surgery_charge = instance['event_attr3'].astype('float32').sum()\n",
    "        surgery_paid = instance['event_attr4'].astype('float32').sum()\n",
    "        surgery_responsible = instance['event_attr5'].astype('float32').sum()\n",
    "    if instance.shape[0] == 0:    \n",
    "        surgery = 0\n",
    "        surgery_charge = 0\n",
    "        surgery_paid = 0\n",
    "        surgery_responsible = 0   \n",
    "        \n",
    "    return [surgery, surgery_charge, surgery_paid, surgery_responsible]"
   ]
  },
  {
   "cell_type": "code",
   "execution_count": 36,
   "metadata": {},
   "outputs": [],
   "source": [
    "columns = ['id', 'total_RX_claim_paid_other', 'total_RX_claim_paid_cost_other', 'total_RX_claim_paid_paid_other', \\\n",
    "           'total_RX_claim_paid_opioid', 'total_RX_claim_paid_cost_opioid', 'total_RX_claim_paid_paid_opioid', \\\n",
    "           'total_RX_claim_paid_supply_opioid', 'total_RX_claim_paid_quantity_opioid', 'total_RX_claim_paid_MME_opioid', \\\n",
    "           'total_RX_claim_new_other', 'total_RX_claim_new_opioid', 'total_RX_claim_new_supply_opioid', \\\n",
    "           'total_RX_claim_new_quantity_opioid', 'total_RX_claim_new_MME_opioid', 'total_RX_claim_mail_other', \\\n",
    "           'total_RX_claim_mail_opioid', 'total_RX_claim_mail_supply_opioid', 'total_RX_claim_mail_quantity_opioid', \\\n",
    "           'total_RX_claim_mail_MME_opioid', 'total_RX_claim_reject', 'inbound_call_by_mbr', 'inbound_call_by_other', \\\n",
    "           'inbound_call_by_prov', 'fully_paid_claim', 'fully_paid_claim_charge', 'fully_paid_claim_paid', \\\n",
    "           'fully_paid_claim_responsible', 'top_five', 'top_five_charge', 'top_five_paid', 'top_five_responsible', 'cad', \\\n",
    "           'cad_charge', 'cad_paid', 'cad_responsible', 'diabetes', 'diabetes_charge', 'diabetes_paid', 'diabetes_responsible', \\\n",
    "           'hypertension', 'hypertension_charge', 'hypertension_paid', 'hypertension_responsible', 'cpd', 'cpd_charge', \\\n",
    "           'cpd_paid', 'cpd_responsible', 'chf', 'chf_charge', 'chf_paid', 'chf_responsible', 'surgery', 'surgery_charge', \\\n",
    "           'surgery_paid', 'surgery_responsible']"
   ]
  },
  {
   "cell_type": "code",
   "execution_count": 37,
   "metadata": {},
   "outputs": [],
   "source": [
    "test = pd.DataFrame(columns = columns)"
   ]
  },
  {
   "cell_type": "code",
   "execution_count": 38,
   "metadata": {},
   "outputs": [
    {
     "ename": "NameError",
     "evalue": "name 'feature' is not defined",
     "output_type": "error",
     "traceback": [
      "\u001b[0;31m---------------------------------------------------------------------------\u001b[0m",
      "\u001b[0;31mNameError\u001b[0m                                 Traceback (most recent call last)",
      "\u001b[0;32m<ipython-input-38-9ffc84e640b2>\u001b[0m in \u001b[0;36m<module>\u001b[0;34m\u001b[0m\n\u001b[1;32m      1\u001b[0m \u001b[0mi\u001b[0m \u001b[0;34m=\u001b[0m \u001b[0;36m0\u001b[0m\u001b[0;34m\u001b[0m\u001b[0;34m\u001b[0m\u001b[0m\n\u001b[0;32m----> 2\u001b[0;31m \u001b[0;32mfor\u001b[0m \u001b[0muid\u001b[0m \u001b[0;32min\u001b[0m \u001b[0mfeature\u001b[0m\u001b[0;34m[\u001b[0m\u001b[0;34m'id'\u001b[0m\u001b[0;34m]\u001b[0m\u001b[0;34m.\u001b[0m\u001b[0munique\u001b[0m\u001b[0;34m(\u001b[0m\u001b[0;34m)\u001b[0m\u001b[0;34m:\u001b[0m\u001b[0;34m\u001b[0m\u001b[0;34m\u001b[0m\u001b[0m\n\u001b[0m\u001b[1;32m      3\u001b[0m     \u001b[0;32mif\u001b[0m \u001b[0mi\u001b[0m \u001b[0;34m>=\u001b[0m \u001b[0;36m5\u001b[0m\u001b[0;34m:\u001b[0m\u001b[0;34m\u001b[0m\u001b[0;34m\u001b[0m\u001b[0m\n\u001b[1;32m      4\u001b[0m         \u001b[0;32mbreak\u001b[0m\u001b[0;34m\u001b[0m\u001b[0;34m\u001b[0m\u001b[0m\n\u001b[1;32m      5\u001b[0m     \u001b[0mone_row\u001b[0m \u001b[0;34m=\u001b[0m \u001b[0;34m[\u001b[0m\u001b[0;34m]\u001b[0m\u001b[0;34m\u001b[0m\u001b[0;34m\u001b[0m\u001b[0m\n",
      "\u001b[0;31mNameError\u001b[0m: name 'feature' is not defined"
     ]
    }
   ],
   "source": [
    "i = 0\n",
    "for uid in feature['id'].unique():\n",
    "    if i >= 5:\n",
    "        break \n",
    "    one_row = []\n",
    "    one_row.append(uid)\n",
    "    one_row.extend(RX_claim_paid_other(uid))\n",
    "    one_row.extend(RX_claim_paid_opioid(uid))\n",
    "    one_row.extend(RX_claim_new_other(uid))\n",
    "    one_row.extend(RX_claim_new_opioid(uid))\n",
    "    one_row.extend(RX_claim_mail_other(uid))\n",
    "    one_row.extend(RX_claim_mail_opioid(uid))\n",
    "    one_row.extend(RX_claim_reject(uid))\n",
    "    one_row.extend(Inbound_call_by_mbr(uid))\n",
    "    one_row.extend(Inbound_call_by_other(uid))\n",
    "    one_row.extend(Inbound_call_by_prov(uid))\n",
    "    one_row.extend(Fully_paid_claim(uid))\n",
    "    one_row.extend(Top_five(uid))\n",
    "    one_row.extend(CAD(uid))\n",
    "    one_row.extend(Diabetes(uid))\n",
    "    one_row.extend(Hypertension(uid))\n",
    "    one_row.extend(CPD(uid))\n",
    "    one_row.extend(CHF(uid))\n",
    "    one_row.extend(Surgery(uid))\n",
    "    test = test.append(pd.Series(one_row, index = test.columns), ignore_index = True)\n",
    "    i+=1 "
   ]
  },
  {
   "cell_type": "code",
   "execution_count": 284,
   "metadata": {},
   "outputs": [],
   "source": [
    "target_opioid = target[(target['event_descr'] == 'RX Claim - Paid') & (target_drug['MME'].isna() == False)]"
   ]
  },
  {
   "cell_type": "code",
   "execution_count": 286,
   "metadata": {},
   "outputs": [],
   "source": [
    "ltot_index = []\n",
    "for uid in target_opioid['id'].unique():\n",
    "    for day in target_opioid[target_opioid['id'] == uid]['Days'].unique():\n",
    "        if day == 0:\n",
    "            ltot = target_opioid[(target_opioid['id'] == uid) & (target_opioid['Days'] <= 179)]\n",
    "            if ltot['PAY_DAY_SUPPLY_CNT'].sum() >= 162:\n",
    "                ltot_index.append(uid)\n",
    "                break\n",
    "        elif day >= 90:\n",
    "            opoid_naive = target_opioid[(target_opioid['id'] == uid) & (target_opioid['Days'] <= (day - 1)) &\\\n",
    "                                        (target_opioid['Days'] >= (day - 90))]\n",
    "            if opoid_naive[opoid_naive['PAY_DAY_SUPPLY_CNT'].isna() == False].shape[0] == 0:\n",
    "                ltot = target_opioid[(target_opioid['id'] == uid) & (target_opioid['Days'] >= day) &\\\n",
    "                                     (target_opioid['Days'] >= day + 179)]\n",
    "                if ltot['PAY_DAY_SUPPLY_CNT'].sum() >= 162:\n",
    "                    ltot_index.append(uid)\n",
    "                    break"
   ]
  },
  {
   "cell_type": "code",
   "execution_count": 293,
   "metadata": {},
   "outputs": [],
   "source": [
    "processed_feature['label'] = np.where(processed_feature['id'].isin(ltot_index), 1, 0)"
   ]
  },
  {
   "cell_type": "code",
   "execution_count": 3,
   "metadata": {},
   "outputs": [],
   "source": [
    "processed_feature = pd.read_csv(\"processed_feature_raw.csv\")"
   ]
  },
  {
   "cell_type": "code",
   "execution_count": 6,
   "metadata": {},
   "outputs": [
    {
     "data": {
      "text/plain": [
       "(13990, 57)"
      ]
     },
     "execution_count": 6,
     "metadata": {},
     "output_type": "execute_result"
    }
   ],
   "source": [
    "processed_feature.shape"
   ]
  },
  {
   "cell_type": "code",
   "execution_count": 8,
   "metadata": {},
   "outputs": [
    {
     "name": "stdout",
     "output_type": "stream",
     "text": [
      "Unnamed: 0                               int64\n",
      "id                                      object\n",
      "total_RX_claim_paid_other                int64\n",
      "total_RX_claim_paid_cost_other         float64\n",
      "total_RX_claim_paid_paid_other         float64\n",
      "total_RX_claim_paid_opioid               int64\n",
      "total_RX_claim_paid_cost_opioid        float64\n",
      "total_RX_claim_paid_paid_opioid        float64\n",
      "total_RX_claim_paid_supply_opioid      float64\n",
      "total_RX_claim_paid_quantity_opioid    float64\n",
      "total_RX_claim_paid_MME_opioid         float64\n",
      "total_RX_claim_new_other                 int64\n",
      "total_RX_claim_new_opioid                int64\n",
      "total_RX_claim_new_supply_opioid       float64\n",
      "total_RX_claim_new_quantity_opioid     float64\n",
      "total_RX_claim_new_MME_opioid          float64\n",
      "total_RX_claim_mail_other                int64\n",
      "total_RX_claim_mail_opioid               int64\n",
      "total_RX_claim_mail_supply_opioid      float64\n",
      "total_RX_claim_mail_quantity_opioid    float64\n",
      "total_RX_claim_mail_MME_opioid         float64\n",
      "total_RX_claim_reject                    int64\n",
      "inbound_call_by_mbr                      int64\n",
      "inbound_call_by_other                    int64\n",
      "inbound_call_by_prov                     int64\n",
      "fully_paid_claim                         int64\n",
      "fully_paid_claim_charge                float64\n",
      "fully_paid_claim_paid                  float64\n",
      "fully_paid_claim_responsible           float64\n",
      "top_five                                 int64\n",
      "top_five_charge                        float64\n",
      "top_five_paid                          float64\n",
      "top_five_responsible                   float64\n",
      "cad                                      int64\n",
      "cad_charge                             float64\n",
      "cad_paid                               float64\n",
      "cad_responsible                        float64\n",
      "diabetes                                 int64\n",
      "diabetes_charge                        float64\n",
      "diabetes_paid                          float64\n",
      "diabetes_responsible                   float64\n",
      "hypertension                             int64\n",
      "hypertension_charge                    float64\n",
      "hypertension_paid                      float64\n",
      "hypertension_responsible               float64\n",
      "cpd                                      int64\n",
      "cpd_charge                             float64\n",
      "cpd_paid                               float64\n",
      "cpd_responsible                        float64\n",
      "chf                                      int64\n",
      "chf_charge                             float64\n",
      "chf_paid                               float64\n",
      "chf_responsible                        float64\n",
      "surgery                                  int64\n",
      "surgery_charge                         float64\n",
      "surgery_paid                           float64\n",
      "surgery_responsible                    float64\n",
      "dtype: object\n"
     ]
    }
   ],
   "source": [
    "print(processed_feature.dtypes)"
   ]
  },
  {
   "cell_type": "code",
   "execution_count": 16,
   "metadata": {},
   "outputs": [],
   "source": [
    "cols = processed_feature.columns"
   ]
  },
  {
   "cell_type": "code",
   "execution_count": 32,
   "metadata": {},
   "outputs": [],
   "source": [
    "cols = ['Unnamed: 0', 'total_RX_claim_paid_other',\n",
    "       'total_RX_claim_paid_cost_other', 'total_RX_claim_paid_paid_other',\n",
    "       'total_RX_claim_paid_opioid', 'total_RX_claim_paid_cost_opioid',\n",
    "       'total_RX_claim_paid_paid_opioid', 'total_RX_claim_paid_supply_opioid',\n",
    "       'total_RX_claim_paid_quantity_opioid', 'total_RX_claim_paid_MME_opioid',\n",
    "       'total_RX_claim_new_other', 'total_RX_claim_new_opioid',\n",
    "       'total_RX_claim_new_supply_opioid',\n",
    "       'total_RX_claim_new_quantity_opioid', 'total_RX_claim_new_MME_opioid',\n",
    "       'total_RX_claim_mail_other', 'total_RX_claim_mail_opioid',\n",
    "       'total_RX_claim_mail_supply_opioid',\n",
    "       'total_RX_claim_mail_quantity_opioid', 'total_RX_claim_mail_MME_opioid',\n",
    "       'total_RX_claim_reject', 'inbound_call_by_mbr', 'inbound_call_by_other',\n",
    "       'inbound_call_by_prov', 'fully_paid_claim', 'fully_paid_claim_charge',\n",
    "       'fully_paid_claim_paid', 'fully_paid_claim_responsible', 'top_five',\n",
    "       'top_five_charge', 'top_five_paid', 'top_five_responsible', 'cad',\n",
    "       'cad_charge', 'cad_paid', 'cad_responsible', 'diabetes',\n",
    "       'diabetes_charge', 'diabetes_paid', 'diabetes_responsible',\n",
    "       'hypertension', 'hypertension_charge', 'hypertension_paid',\n",
    "       'hypertension_responsible', 'cpd', 'cpd_charge', 'cpd_paid',\n",
    "       'cpd_responsible', 'chf', 'chf_charge', 'chf_paid', 'chf_responsible',\n",
    "       'surgery', 'surgery_charge', 'surgery_paid', 'surgery_responsible']"
   ]
  },
  {
   "cell_type": "code",
   "execution_count": 33,
   "metadata": {},
   "outputs": [
    {
     "name": "stdout",
     "output_type": "stream",
     "text": [
      "Unnamed: 0 97853055\n",
      "total_RX_claim_paid_other 1149435\n",
      "total_RX_claim_paid_cost_other inf\n",
      "total_RX_claim_paid_paid_other inf\n",
      "total_RX_claim_paid_opioid 77096\n",
      "total_RX_claim_paid_cost_opioid inf\n",
      "total_RX_claim_paid_paid_opioid 1959644.879623413\n",
      "total_RX_claim_paid_supply_opioid 1945442.0\n",
      "total_RX_claim_paid_quantity_opioid 7295890.0\n",
      "total_RX_claim_paid_MME_opioid 4264317.779248268\n",
      "total_RX_claim_new_other 111553\n",
      "total_RX_claim_new_opioid 6169\n",
      "total_RX_claim_new_supply_opioid 89062.0\n",
      "total_RX_claim_new_quantity_opioid 323425.0\n",
      "total_RX_claim_new_MME_opioid 218533.9125819362\n",
      "total_RX_claim_mail_other 5430\n",
      "total_RX_claim_mail_opioid 55\n",
      "total_RX_claim_mail_supply_opioid 3040.0\n",
      "total_RX_claim_mail_quantity_opioid 10710.0\n",
      "total_RX_claim_mail_MME_opioid 1146.543193126\n",
      "total_RX_claim_reject 0\n",
      "inbound_call_by_mbr 159622\n",
      "inbound_call_by_other 16000\n",
      "inbound_call_by_prov 59400\n",
      "fully_paid_claim 750461\n",
      "fully_paid_claim_charge inf\n",
      "fully_paid_claim_paid inf\n",
      "fully_paid_claim_responsible -inf\n",
      "top_five 2226\n",
      "top_five_charge 656897.3097610474\n",
      "top_five_paid 130777.64479064941\n",
      "top_five_responsible 25257.311157226562\n",
      "cad 1467\n",
      "cad_charge inf\n",
      "cad_paid 196913.55013275146\n",
      "cad_responsible 26183.5316696167\n",
      "diabetes 1417\n",
      "diabetes_charge 392929.61002349854\n",
      "diabetes_paid 58910.170166015625\n",
      "diabetes_responsible 12130.741394042969\n",
      "hypertension 2221\n",
      "hypertension_charge 861128.3581771851\n",
      "hypertension_paid 183899.9782485962\n",
      "hypertension_responsible 24882.425285339355\n",
      "cpd 2332\n",
      "cpd_charge 865206.3570098877\n",
      "cpd_paid 172722.74697113037\n",
      "cpd_responsible 45741.959617614746\n",
      "chf 1098\n",
      "chf_charge inf\n",
      "chf_paid 192598.7283935547\n",
      "chf_responsible 17818.528198242188\n",
      "surgery 12691\n",
      "surgery_charge inf\n",
      "surgery_paid inf\n",
      "surgery_responsible inf\n"
     ]
    }
   ],
   "source": [
    "for c in cols:\n",
    "    print(c,processed_feature[c].sum())"
   ]
  },
  {
   "cell_type": "code",
   "execution_count": null,
   "metadata": {},
   "outputs": [],
   "source": []
  }
 ],
 "metadata": {
  "kernelspec": {
   "display_name": "Python 3",
   "language": "python",
   "name": "python3"
  },
  "language_info": {
   "codemirror_mode": {
    "name": "ipython",
    "version": 3
   },
   "file_extension": ".py",
   "mimetype": "text/x-python",
   "name": "python",
   "nbconvert_exporter": "python",
   "pygments_lexer": "ipython3",
   "version": "3.7.1"
  }
 },
 "nbformat": 4,
 "nbformat_minor": 2
}
